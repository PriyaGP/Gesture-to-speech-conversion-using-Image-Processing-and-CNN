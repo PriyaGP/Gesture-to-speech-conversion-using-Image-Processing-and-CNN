{
 "cells": [
  {
   "cell_type": "code",
   "execution_count": 2,
   "metadata": {},
   "outputs": [
    {
     "name": "stdout",
     "output_type": "stream",
     "text": [
      "Found 6011 images belonging to 20 classes.\n",
      "Found 2102 images belonging to 20 classes.\n",
      "Model: \"sequential_1\"\n",
      "_________________________________________________________________\n",
      "Layer (type)                 Output Shape              Param #   \n",
      "=================================================================\n",
      "conv2d_4 (Conv2D)            (None, 62, 62, 32)        320       \n",
      "_________________________________________________________________\n",
      "max_pooling2d_4 (MaxPooling2 (None, 31, 31, 32)        0         \n",
      "_________________________________________________________________\n",
      "conv2d_5 (Conv2D)            (None, 29, 29, 32)        9248      \n",
      "_________________________________________________________________\n",
      "max_pooling2d_5 (MaxPooling2 (None, 14, 14, 32)        0         \n",
      "_________________________________________________________________\n",
      "conv2d_6 (Conv2D)            (None, 12, 12, 32)        9248      \n",
      "_________________________________________________________________\n",
      "max_pooling2d_6 (MaxPooling2 (None, 6, 6, 32)          0         \n",
      "_________________________________________________________________\n",
      "conv2d_7 (Conv2D)            (None, 4, 4, 32)          9248      \n",
      "_________________________________________________________________\n",
      "max_pooling2d_7 (MaxPooling2 (None, 2, 2, 32)          0         \n",
      "_________________________________________________________________\n",
      "flatten_1 (Flatten)          (None, 128)               0         \n",
      "_________________________________________________________________\n",
      "dense_2 (Dense)              (None, 128)               16512     \n",
      "_________________________________________________________________\n",
      "dropout (Dropout)            (None, 128)               0         \n",
      "_________________________________________________________________\n",
      "dense_3 (Dense)              (None, 20)                2580      \n",
      "=================================================================\n",
      "Total params: 47,156\n",
      "Trainable params: 47,156\n",
      "Non-trainable params: 0\n",
      "_________________________________________________________________\n",
      "None\n"
     ]
    }
   ],
   "source": [
    "# Importing the Keras libraries and packages\n",
    "from keras.models import Sequential\n",
    "from keras.layers import Convolution2D\n",
    "from keras.layers import MaxPooling2D\n",
    "from keras.layers import Flatten\n",
    "from keras.layers import Dense\n",
    "from keras.layers import Dropout\n",
    "import matplotlib.pyplot as plt\n",
    "# Step 1 - Building the CNN\n",
    "\n",
    "# Initializing the CNN\n",
    "classifier = Sequential()\n",
    "\n",
    "# First convolution layer and pooling\n",
    "classifier.add(Convolution2D(32, (3, 3), input_shape=(64, 64, 1), activation='relu'))\n",
    "classifier.add(MaxPooling2D(pool_size=(2, 2)))\n",
    "# Second convolution layer and pooling\n",
    "classifier.add(Convolution2D(32, (3, 3), activation='relu'))\n",
    "# input_shape is going to be the pooled feature maps from the previous convolution layer\n",
    "classifier.add(MaxPooling2D(pool_size=(2, 2)))\n",
    "# Third convolution layer and pooling\n",
    "classifier.add(Convolution2D(32, (3, 3), activation='relu'))\n",
    "classifier.add(MaxPooling2D(pool_size=(2, 2)))\n",
    "# Fourth convolution layer and pooling\n",
    "classifier.add(Convolution2D(32, (3, 3), activation='relu'))\n",
    "classifier.add(MaxPooling2D(pool_size=(2, 2)))\n",
    "\n",
    "# Flattening the layers\n",
    "classifier.add(Flatten())\n",
    "\n",
    "# Adding a fully connected layer\n",
    "classifier.add(Dense(units=128, activation='relu'))\n",
    "classifier.add(Dropout(0.5))\n",
    "classifier.add(Dense(units=20, activation='softmax')) # softmax for more than 2\n",
    "\n",
    "# Compiling the CNN\n",
    "classifier.compile(optimizer='adam', loss='categorical_crossentropy', metrics=['accuracy']) # categorical_crossentropy for more than 2\n",
    "\n",
    "\n",
    "# Step 2 - Preparing the train/test data and training the model\n",
    "\n",
    "from keras.preprocessing.image import ImageDataGenerator\n",
    "\n",
    "train_datagen = ImageDataGenerator(\n",
    "        rescale=1./255,\n",
    "        shear_range=0.2,\n",
    "        zoom_range=0.2,\n",
    "        horizontal_flip=True)\n",
    "\n",
    "test_datagen = ImageDataGenerator(rescale=1./255)\n",
    "\n",
    "training_set = train_datagen.flow_from_directory('mydata/train',\n",
    "                                                 target_size=(64, 64),\n",
    "                                                 batch_size=1,\n",
    "                                                 color_mode='grayscale',\n",
    "                                                 class_mode='categorical')\n",
    "\n",
    "test_set = test_datagen.flow_from_directory('mydata/test',\n",
    "                                            target_size=(64, 64),\n",
    "                                            batch_size=1,\n",
    "                                            color_mode='grayscale',\n",
    "                                            class_mode='categorical') \n",
    "print(classifier.summary())\n"
   ]
  },
  {
   "cell_type": "code",
   "execution_count": 3,
   "metadata": {
    "scrolled": true
   },
   "outputs": [
    {
     "name": "stdout",
     "output_type": "stream",
     "text": [
      "Epoch 1/50\n",
      "6011/6011 [==============================] - 329s 54ms/step - loss: 2.2481 - accuracy: 0.3014 - val_loss: 1.5545 - val_accuracy: 0.5990\n",
      "Epoch 2/50\n",
      "6011/6011 [==============================] - 128s 21ms/step - loss: 0.7184 - accuracy: 0.7735 - val_loss: 1.0948 - val_accuracy: 0.7088\n",
      "Epoch 3/50\n",
      "6011/6011 [==============================] - 116s 19ms/step - loss: 0.4860 - accuracy: 0.8504 - val_loss: 0.9207 - val_accuracy: 0.7241\n",
      "Epoch 4/50\n",
      "6011/6011 [==============================] - 113s 19ms/step - loss: 0.3798 - accuracy: 0.8858 - val_loss: 0.7272 - val_accuracy: 0.7921\n",
      "Epoch 5/50\n",
      "6011/6011 [==============================] - 120s 20ms/step - loss: 0.3082 - accuracy: 0.9027 - val_loss: 0.9167 - val_accuracy: 0.7602\n",
      "Epoch 6/50\n",
      "6011/6011 [==============================] - 122s 20ms/step - loss: 0.2788 - accuracy: 0.9119 - val_loss: 0.8897 - val_accuracy: 0.7883\n",
      "Epoch 7/50\n",
      "6011/6011 [==============================] - 122s 20ms/step - loss: 0.2662 - accuracy: 0.9231 - val_loss: 0.7843 - val_accuracy: 0.8330\n",
      "Epoch 8/50\n",
      "6011/6011 [==============================] - 178s 30ms/step - loss: 0.2555 - accuracy: 0.9225 - val_loss: 1.2744 - val_accuracy: 0.7536\n",
      "Epoch 9/50\n",
      "6011/6011 [==============================] - 166s 28ms/step - loss: 0.1966 - accuracy: 0.9400 - val_loss: 0.6369 - val_accuracy: 0.8554 - accura - ETA: 0s - loss: 0.1966 - accura\n",
      "Epoch 10/50\n",
      "6011/6011 [==============================] - 140s 23ms/step - loss: 0.1957 - accuracy: 0.9397 - val_loss: 0.9634 - val_accuracy: 0.815456 - ac\n",
      "Epoch 11/50\n",
      "6011/6011 [==============================] - 179s 30ms/step - loss: 0.2094 - accuracy: 0.9372 - val_loss: 0.9602 - val_accuracy: 0.7969\n",
      "Epoch 12/50\n",
      "6011/6011 [==============================] - 238s 40ms/step - loss: 0.1888 - accuracy: 0.9448 - val_loss: 0.9375 - val_accuracy: 0.8069\n",
      "Epoch 13/50\n",
      "6011/6011 [==============================] - 210s 35ms/step - loss: 0.1844 - accuracy: 0.9488 - val_loss: 1.5618 - val_accuracy: 0.7284\n",
      "Epoch 14/50\n",
      "6011/6011 [==============================] - 140s 23ms/step - loss: 0.1698 - accuracy: 0.9541 - val_loss: 1.3204 - val_accuracy: 0.8059\n",
      "Epoch 15/50\n",
      "6011/6011 [==============================] - 126s 21ms/step - loss: 0.1709 - accuracy: 0.9491 - val_loss: 1.2659 - val_accuracy: 0.7769\n",
      "Epoch 16/50\n",
      "6011/6011 [==============================] - 129s 21ms/step - loss: 0.1598 - accuracy: 0.9536 - val_loss: 1.0372 - val_accuracy: 0.8254\n",
      "Epoch 17/50\n",
      "6011/6011 [==============================] - 132s 22ms/step - loss: 0.1821 - accuracy: 0.9499 - val_loss: 1.5732 - val_accuracy: 0.7883\n",
      "Epoch 18/50\n",
      "6011/6011 [==============================] - 131s 22ms/step - loss: 0.1673 - accuracy: 0.9545 - val_loss: 1.6954 - val_accuracy: 0.7607\n",
      "Epoch 19/50\n",
      "6011/6011 [==============================] - 129s 21ms/step - loss: 0.1764 - accuracy: 0.9524 - val_loss: 1.4692 - val_accuracy: 0.7726\n",
      "Epoch 20/50\n",
      "6011/6011 [==============================] - 136s 23ms/step - loss: 0.1876 - accuracy: 0.9471 - val_loss: 1.1574 - val_accuracy: 0.8230\n",
      "Epoch 21/50\n",
      "6011/6011 [==============================] - 129s 21ms/step - loss: 0.1744 - accuracy: 0.9527 - val_loss: 1.2602 - val_accuracy: 0.8354\n",
      "Epoch 22/50\n",
      "6011/6011 [==============================] - 129s 22ms/step - loss: 0.2101 - accuracy: 0.9441 - val_loss: 3.4301 - val_accuracy: 0.6713\n",
      "Epoch 23/50\n",
      "6011/6011 [==============================] - 131s 22ms/step - loss: 0.1952 - accuracy: 0.9490 - val_loss: 1.4680 - val_accuracy: 0.7797\n",
      "Epoch 24/50\n",
      "6011/6011 [==============================] - 130s 22ms/step - loss: 0.1713 - accuracy: 0.9528 - val_loss: 2.2135 - val_accuracy: 0.7474\n",
      "Epoch 25/50\n",
      "6011/6011 [==============================] - 130s 22ms/step - loss: 0.1647 - accuracy: 0.9549 - val_loss: 1.6928 - val_accuracy: 0.8206\n",
      "Epoch 26/50\n",
      "6011/6011 [==============================] - 131s 22ms/step - loss: 0.1685 - accuracy: 0.9598 - val_loss: 1.4439 - val_accuracy: 0.8054\n",
      "Epoch 27/50\n",
      "6011/6011 [==============================] - 130s 22ms/step - loss: 0.1632 - accuracy: 0.9601 - val_loss: 2.0691 - val_accuracy: 0.7464\n",
      "Epoch 28/50\n",
      "6011/6011 [==============================] - 129s 21ms/step - loss: 0.1786 - accuracy: 0.9581 - val_loss: 1.5441 - val_accuracy: 0.8178\n",
      "Epoch 29/50\n",
      "6011/6011 [==============================] - 129s 21ms/step - loss: 0.1592 - accuracy: 0.9619 - val_loss: 1.7908 - val_accuracy: 0.7835\n",
      "Epoch 30/50\n",
      "6011/6011 [==============================] - 131s 22ms/step - loss: 0.1617 - accuracy: 0.9590 - val_loss: 1.5496 - val_accuracy: 0.7493\n",
      "Epoch 31/50\n",
      "6011/6011 [==============================] - 136s 23ms/step - loss: 0.1498 - accuracy: 0.9619 - val_loss: 2.1487 - val_accuracy: 0.7812\n",
      "Epoch 32/50\n",
      "6011/6011 [==============================] - 131s 22ms/step - loss: 0.1782 - accuracy: 0.9535 - val_loss: 1.3873 - val_accuracy: 0.8344\n",
      "Epoch 33/50\n",
      "6011/6011 [==============================] - 131s 22ms/step - loss: 0.1962 - accuracy: 0.9576 - val_loss: 1.8559 - val_accuracy: 0.8021\n",
      "Epoch 34/50\n",
      "6011/6011 [==============================] - 133s 22ms/step - loss: 0.1936 - accuracy: 0.9512 - val_loss: 2.6372 - val_accuracy: 0.7693\n",
      "Epoch 35/50\n",
      "6011/6011 [==============================] - 133s 22ms/step - loss: 0.1867 - accuracy: 0.9551 - val_loss: 1.5269 - val_accuracy: 0.7636y:  - ETA: 0s - l\n",
      "Epoch 36/50\n",
      "6011/6011 [==============================] - 138s 23ms/step - loss: 0.1760 - accuracy: 0.9594 - val_loss: 2.4492 - val_accuracy: 0.7369\n",
      "Epoch 37/50\n",
      "6011/6011 [==============================] - 132s 22ms/step - loss: 0.1841 - accuracy: 0.9553 - val_loss: 2.2760 - val_accuracy: 0.7583\n",
      "Epoch 38/50\n",
      "6011/6011 [==============================] - 133s 22ms/step - loss: 0.1691 - accuracy: 0.9585 - val_loss: 2.3587 - val_accuracy: 0.8011\n",
      "Epoch 39/50\n",
      "6011/6011 [==============================] - 208s 35ms/step - loss: 0.1876 - accuracy: 0.9579 - val_loss: 1.4100 - val_accuracy: 0.8054\n",
      "Epoch 40/50\n",
      "6011/6011 [==============================] - 138s 23ms/step - loss: 0.1829 - accuracy: 0.9505 - val_loss: 2.0170 - val_accuracy: 0.81920.1832 - accura\n",
      "Epoch 41/50\n",
      "6011/6011 [==============================] - 125s 21ms/step - loss: 0.2233 - accuracy: 0.9487 - val_loss: 1.3721 - val_accuracy: 0.8378\n",
      "Epoch 42/50\n",
      "6011/6011 [==============================] - 129s 21ms/step - loss: 0.1743 - accuracy: 0.9589 - val_loss: 2.1571 - val_accuracy: 0.7693\n",
      "Epoch 43/50\n",
      "6011/6011 [==============================] - 134s 22ms/step - loss: 0.2424 - accuracy: 0.9487 - val_loss: 1.2517 - val_accuracy: 0.8440\n",
      "Epoch 44/50\n",
      "6011/6011 [==============================] - 137s 23ms/step - loss: 0.1700 - accuracy: 0.9545 - val_loss: 2.2182 - val_accuracy: 0.8264\n",
      "Epoch 45/50\n",
      "6011/6011 [==============================] - 133s 22ms/step - loss: 0.2037 - accuracy: 0.9501 - val_loss: 1.9745 - val_accuracy: 0.8278\n",
      "Epoch 46/50\n",
      "6011/6011 [==============================] - 141s 23ms/step - loss: 0.1855 - accuracy: 0.9660 - val_loss: 1.1421 - val_accuracy: 0.8497\n",
      "Epoch 47/50\n",
      "6011/6011 [==============================] - 140s 23ms/step - loss: 0.1845 - accuracy: 0.9572 - val_loss: 1.5666 - val_accuracy: 0.8202\n",
      "Epoch 48/50\n",
      "6011/6011 [==============================] - 142s 24ms/step - loss: 0.1791 - accuracy: 0.9576 - val_loss: 1.6098 - val_accuracy: 0.8292\n",
      "Epoch 49/50\n",
      "6011/6011 [==============================] - 160s 27ms/step - loss: 0.1672 - accuracy: 0.9619 - val_loss: 2.0594 - val_accuracy: 0.8268\n",
      "Epoch 50/50\n",
      "6011/6011 [==============================] - 143s 24ms/step - loss: 0.2155 - accuracy: 0.9593 - val_loss: 2.8133 - val_accuracy: 0.7869\n"
     ]
    }
   ],
   "source": [
    "history =classifier.fit(\n",
    "        training_set,\n",
    "        steps_per_epoch= 6011, # No of images in training set\n",
    "        epochs=50,\n",
    "        validation_data=test_set,\n",
    "        validation_steps=2102)# No of images in test set\n"
   ]
  },
  {
   "cell_type": "code",
   "execution_count": 4,
   "metadata": {},
   "outputs": [
    {
     "name": "stdout",
     "output_type": "stream",
     "text": [
      "Test loss: 2.813260316848755\n",
      "Test accuracy: 0.7868696451187134\n"
     ]
    }
   ],
   "source": [
    "test_eval = classifier.evaluate(test_set, verbose=0)\n",
    "print('Test loss:', test_eval[0])\n",
    "print('Test accuracy:', test_eval[1])"
   ]
  },
  {
   "cell_type": "code",
   "execution_count": null,
   "metadata": {},
   "outputs": [],
   "source": []
  },
  {
   "cell_type": "code",
   "execution_count": 6,
   "metadata": {},
   "outputs": [
    {
     "data": {
      "image/png": "[encoded data removed]",
      "text/plain": [
       "<Figure size 432x288 with 1 Axes>"
      ]
     },
     "metadata": {
      "needs_background": "light"
     },
     "output_type": "display_data"
    }
   ],
   "source": [
    "plt.plot(history.history['loss'])\n",
    "plt.plot(history.history['val_loss'])\n",
    "plt.title('Model Loss')\n",
    "plt.ylabel('Loss')\n",
    "plt.xlabel('Epochs')\n",
    "plt.legend(['train', 'test'])\n",
    "plt.show()"
   ]
  },
  {
   "cell_type": "code",
   "execution_count": 7,
   "metadata": {},
   "outputs": [
    {
     "data": {
      "image/png": "[encoded data removed]",
      "text/plain": [
       "<Figure size 432x288 with 1 Axes>"
      ]
     },
     "metadata": {
      "needs_background": "light"
     },
     "output_type": "display_data"
    }
   ],
   "source": [
    "plt.plot(history.history['accuracy'])\n",
    "plt.plot(history.history['val_accuracy'])\n",
    "plt.title('Model Accuracy')\n",
    "plt.ylabel('Accuracy')\n",
    "plt.xlabel('Epochs')\n",
    "plt.legend(['train', 'test'])\n",
    "plt.show()"
   ]
  },
  {
   "cell_type": "code",
   "execution_count": 8,
   "metadata": {},
   "outputs": [],
   "source": [
    "\n",
    "# Saving the model\n",
    "model_json = classifier.to_json()\n",
    "with open(\"oursecmodel-bw.json\", \"w\") as json_file:\n",
    "    json_file.write(model_json)\n",
    "classifier.save_weights('oursecmodel-bw.h5')\n"
   ]
  },
  {
   "cell_type": "code",
   "execution_count": null,
   "metadata": {},
   "outputs": [],
   "source": []
  },
  {
   "cell_type": "code",
   "execution_count": null,
   "metadata": {},
   "outputs": [],
   "source": []
  }
 ],
 "metadata": {
  "kernelspec": {
   "display_name": "Python 3",
   "language": "python",
   "name": "python3"
  },
  "language_info": {
   "codemirror_mode": {
    "name": "ipython",
    "version": 3
   },
   "file_extension": ".py",
   "mimetype": "text/x-python",
   "name": "python",
   "nbconvert_exporter": "python",
   "pygments_lexer": "ipython3",
   "version": "3.7.7"
  }
 },
 "nbformat": 4,
 "nbformat_minor": 2
}
